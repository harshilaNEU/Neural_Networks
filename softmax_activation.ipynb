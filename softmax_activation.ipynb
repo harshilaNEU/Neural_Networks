{
 "cells": [
  {
   "cell_type": "code",
   "execution_count": 18,
   "metadata": {},
   "outputs": [
    {
     "data": {
      "image/png": "[encoded data removed]",
      "text/plain": [
       "<Figure size 640x480 with 1 Axes>"
      ]
     },
     "metadata": {},
     "output_type": "display_data"
    },
    {
     "name": "stdout",
     "output_type": "stream",
     "text": [
      "Simulated scores: [0.36312359 0.39450485 0.43038746 0.57134717 0.89490143 0.999081\n",
      " 0.20352748 0.22066698 0.12152675 0.46706675]\n",
      "Predicted probabilities: [0.08666748 0.08943034 0.0926976  0.10673    0.14750419 0.1637001\n",
      " 0.07388299 0.07516022 0.06806628 0.09616081]\n"
     ]
    },
    {
     "data": {
      "text/plain": [
       "('airplane',\n",
       " array([0.08666748, 0.08943034, 0.0926976 , 0.10673   , 0.14750419,\n",
       "        0.1637001 , 0.07388299, 0.07516022, 0.06806628, 0.09616081]))"
      ]
     },
     "execution_count": 18,
     "metadata": {},
     "output_type": "execute_result"
    }
   ],
   "source": [
    "import numpy as np\n",
    "from PIL import Image\n",
    "import os\n",
    "import random\n",
    "import matplotlib.pyplot as plt\n",
    "\n",
    "class SimpleCIFAR10Classifier:\n",
    "    def __init__(self, test_dir):\n",
    "        self.test_dir = test_dir\n",
    "\n",
    "    def load_random_image(self, class_label=None):\n",
    "        if class_label is None:\n",
    "            class_label = random.choice(os.listdir(self.test_dir))\n",
    "        class_dir = os.path.join(self.test_dir, class_label)\n",
    "        image_path = random.choice(os.listdir(class_dir))\n",
    "        image_path = os.path.join(class_dir, image_path)\n",
    "        image = Image.open(image_path)\n",
    "        return np.array(image), class_label\n",
    "\n",
    "    def preprocess_image(self, image):\n",
    "        # Normalize the image\n",
    "        return image / 255.0\n",
    "\n",
    "    def softmax(self, scores):\n",
    "        e_scores = np.exp(scores - np.max(scores))\n",
    "        return e_scores / e_scores.sum()\n",
    "\n",
    "    def forward_pass(self, image):\n",
    "        # Simulate a forward pass with random scores for demonstration\n",
    "        scores = np.random.rand(10)  # Random scores for 10 classes\n",
    "        return scores\n",
    "\n",
    "    def predict(self):\n",
    "        # Load and preprocess a random image\n",
    "        image, class_label = self.load_random_image()\n",
    "        image = self.preprocess_image(image)\n",
    "        \n",
    "        # Simulate a forward pass through the network\n",
    "        scores = self.forward_pass(image)\n",
    "        \n",
    "        # Apply softmax to obtain probabilities\n",
    "        probabilities = self.softmax(scores)\n",
    "        \n",
    "        # Display the image and predictions\n",
    "        plt.imshow(image)\n",
    "        plt.title(f'Class: {class_label}')\n",
    "        plt.show()\n",
    "        \n",
    "        print(\"Simulated scores:\", scores)\n",
    "        print(\"Predicted probabilities:\", probabilities)\n",
    "        return class_label, probabilities\n",
    "\n",
    "# CIFAR-10 test data path\n",
    "test_dir = 'data/test'\n",
    "\n",
    "# Create an instance of the classifier and predict\n",
    "classifier = SimpleCIFAR10Classifier(test_dir)\n",
    "classifier.predict()\n"
   ]
  }
 ],
 "metadata": {
  "kernelspec": {
   "display_name": "Python 3.10.10 64-bit",
   "language": "python",
   "name": "python3"
  },
  "language_info": {
   "codemirror_mode": {
    "name": "ipython",
    "version": 3
   },
   "file_extension": ".py",
   "mimetype": "text/x-python",
   "name": "python",
   "nbconvert_exporter": "python",
   "pygments_lexer": "ipython3",
   "version": "3.10.10"
  },
  "orig_nbformat": 4,
  "vscode": {
   "interpreter": {
    "hash": "aee8b7b246df8f9039afb4144a1f6fd8d2ca17a180786b69acc140d282b71a49"
   }
  }
 },
 "nbformat": 4,
 "nbformat_minor": 2
}
