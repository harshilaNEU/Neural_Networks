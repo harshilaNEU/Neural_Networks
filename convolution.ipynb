{
 "cells": [
  {
   "cell_type": "code",
   "execution_count": 3,
   "metadata": {},
   "outputs": [
    {
     "name": "stdout",
     "output_type": "stream",
     "text": [
      "Original Image (6x6):\n",
      " [[ 1  2  3  4  5  6]\n",
      " [ 7  8  9 10 11 12]\n",
      " [13 14 15 16 17 18]\n",
      " [19 20 21 22 23 24]\n",
      " [25 26 27 28 29 30]\n",
      " [31 32 33 34 35 36]]\n",
      "\n",
      "Filter (3x3):\n",
      " [[-1 -2 -1]\n",
      " [ 0  0  0]\n",
      " [ 1  2  1]]\n",
      "\n",
      "Convolved Image (4x4):\n",
      " [[-48. -48. -48. -48.]\n",
      " [-48. -48. -48. -48.]\n",
      " [-48. -48. -48. -48.]\n",
      " [-48. -48. -48. -48.]]\n"
     ]
    }
   ],
   "source": [
    "import numpy as np\n",
    "\n",
    "def convolve(image, kernel):\n",
    "    \"\"\"\n",
    "   convolve algorithm without padding and striding.\n",
    "\n",
    "    Parameters:\n",
    "    - image (numpy.ndarray): The original image matrix (6x6).\n",
    "    - kernel (numpy.ndarray): The filter (or kernel) to apply (3x3).\n",
    "\n",
    "    Returns:\n",
    "    - numpy.ndarray: The resulting image after convolution.\n",
    "    \"\"\"\n",
    "    # Flip the kernel horizontally and vertically\n",
    "    kernel_flipped = np.flipud(np.fliplr(kernel))\n",
    "    \n",
    "    # Calculate the dimensions of the output matrix\n",
    "    output_height = image.shape[0] - kernel_flipped.shape[0] + 1\n",
    "    output_width = image.shape[1] - kernel_flipped.shape[1] + 1\n",
    "    \n",
    "    # Initialize the output matrix with zeros\n",
    "    output = np.zeros((output_height, output_width))\n",
    "    \n",
    "    # Perform the convolution operation\n",
    "    for row in range(output_height):\n",
    "        for col in range(output_width):\n",
    "            # Element-wise multiplication (Hadamard product) and summation\n",
    "            output[row, col] = np.sum(\n",
    "                image[row:row+kernel_flipped.shape[0], col:col+kernel_flipped.shape[1]] * kernel_flipped\n",
    "            )\n",
    "    \n",
    "    return output\n",
    "\n",
    "# 6x6 image\n",
    "image = np.array([\n",
    "    [1, 2, 3, 4, 5, 6],\n",
    "    [7, 8, 9, 10, 11, 12],\n",
    "    [13, 14, 15, 16, 17, 18],\n",
    "    [19, 20, 21, 22, 23, 24],\n",
    "    [25, 26, 27, 28, 29, 30],\n",
    "    [31, 32, 33, 34, 35, 36]\n",
    "])\n",
    "\n",
    "# 3x3 filter\n",
    "kernel = np.array([\n",
    "    [-1, -2, -1],\n",
    "    [0,  0,  0],\n",
    "    [1,  2,  1]\n",
    "])\n",
    "\n",
    "# Perform convolution\n",
    "result = convolve(image, kernel)\n",
    "print(\"Original Image (6x6):\\n\", image)\n",
    "print(\"\\nFilter (3x3):\\n\", kernel)\n",
    "print(\"\\nConvolved Image (4x4):\\n\", result)\n"
   ]
  }
 ],
 "metadata": {
  "kernelspec": {
   "display_name": "Python 3.10.10 64-bit",
   "language": "python",
   "name": "python3"
  },
  "language_info": {
   "codemirror_mode": {
    "name": "ipython",
    "version": 3
   },
   "file_extension": ".py",
   "mimetype": "text/x-python",
   "name": "python",
   "nbconvert_exporter": "python",
   "pygments_lexer": "ipython3",
   "version": "3.10.10"
  },
  "orig_nbformat": 4,
  "vscode": {
   "interpreter": {
    "hash": "aee8b7b246df8f9039afb4144a1f6fd8d2ca17a180786b69acc140d282b71a49"
   }
  }
 },
 "nbformat": 4,
 "nbformat_minor": 2
}
