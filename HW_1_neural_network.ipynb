{
 "cells": [
  {
   "cell_type": "code",
   "execution_count": 12,
   "metadata": {},
   "outputs": [
    {
     "name": "stdout",
     "output_type": "stream",
     "text": [
      "Neuron Output y is : 0\n"
     ]
    }
   ],
   "source": [
    "# Class constructor\n",
    "class McCullochPittsNeuron:\n",
    "    def __init__(self, weights, threshold):\n",
    "        self.weights = weights\n",
    "        self.threshold = threshold\n",
    "\n",
    "    # Activation function\n",
    "    def activate(self, inputs):\n",
    "        weighted_sum = sum(w * i for w, i in zip(self.weights, inputs))\n",
    "        return 1 if weighted_sum >= self.threshold else 0\n",
    "\n",
    "if __name__ == \"__main__\":\n",
    "    # Define neuron parameters like : input, weight, threshold\n",
    "    weights = [0.5, 0.5]\n",
    "    threshold = 1\n",
    "\n",
    "    # Create a neuron instance of class McCullochPittsNeuron\n",
    "    neuron = McCullochPittsNeuron(weights, threshold)\n",
    "\n",
    "    # Inputs to the neuron. We can change it to test different x1, x2 combinations\n",
    "    inputs = [0, 1]\n",
    "\n",
    "    # Activate neuron and get output\n",
    "    output = neuron.activate(inputs)\n",
    "    print(\"Neuron Output y is :\", output)\n"
   ]
  }
 ],
 "metadata": {
  "kernelspec": {
   "display_name": "Python 3.10.10 64-bit",
   "language": "python",
   "name": "python3"
  },
  "language_info": {
   "codemirror_mode": {
    "name": "ipython",
    "version": 3
   },
   "file_extension": ".py",
   "mimetype": "text/x-python",
   "name": "python",
   "nbconvert_exporter": "python",
   "pygments_lexer": "ipython3",
   "version": "3.10.10"
  },
  "orig_nbformat": 4,
  "vscode": {
   "interpreter": {
    "hash": "aee8b7b246df8f9039afb4144a1f6fd8d2ca17a180786b69acc140d282b71a49"
   }
  }
 },
 "nbformat": 4,
 "nbformat_minor": 2
}
